{
 "cells": [
  {
   "cell_type": "markdown",
   "metadata": {},
   "source": [
    "Estudo baseado nos seguintes artigos:\n",
    "\n",
    "* [Dealing with unbalanced data in machine learning](https://www.r-bloggers.com/dealing-with-unbalanced-data-in-machine-learning/)\n",
    "\n",
    "* [Building meaningful machine learning models for disease prediction](https://shiring.github.io/machine_learning/2017/03/31/webinar_code)\n",
    "\n",
    "O dataset usado pode ser baixado [aqui](http://archive.ics.uci.edu/ml/machine-learning-databases/breast-cancer-wisconsin/breast-cancer-wisconsin.data)"
   ]
  },
  {
   "cell_type": "code",
   "execution_count": 5,
   "metadata": {},
   "outputs": [],
   "source": [
    "library(caret) # short for _C_lassification _A_nd _RE_gression _T_raining\n",
    "# http://topepo.github.io/caret/index.html\n",
    "\n",
    "library(ggplot2)"
   ]
  },
  {
   "cell_type": "markdown",
   "metadata": {},
   "source": [
    "Preparando df."
   ]
  },
  {
   "cell_type": "code",
   "execution_count": 2,
   "metadata": {},
   "outputs": [],
   "source": [
    "bc_data <- read.table(\"data/breast-cancer-wisconsin.data.txt\", \n",
    "                      header = FALSE, \n",
    "                      sep = \",\")\n",
    "colnames(bc_data) <- c(\"sample_code_number\", \n",
    "                       \"clump_thickness\", \n",
    "                       \"uniformity_of_cell_size\", \n",
    "                       \"uniformity_of_cell_shape\", \n",
    "                       \"marginal_adhesion\", \n",
    "                       \"single_epithelial_cell_size\", \n",
    "                       \"bare_nuclei\", \n",
    "                       \"bland_chromatin\", \n",
    "                       \"normal_nucleoli\", \n",
    "                       \"mitosis\", \n",
    "                       \"classes\")\n",
    "\n",
    "bc_data$classes <- ifelse(bc_data$classes == \"2\", \"benign\",\n",
    "                          ifelse(bc_data$classes == \"4\", \"malignant\", NA))"
   ]
  },
  {
   "cell_type": "code",
   "execution_count": 3,
   "metadata": {},
   "outputs": [
    {
     "data": {
      "text/html": [
       "<table>\n",
       "<thead><tr><th scope=col>sample_code_number</th><th scope=col>clump_thickness</th><th scope=col>uniformity_of_cell_size</th><th scope=col>uniformity_of_cell_shape</th><th scope=col>marginal_adhesion</th><th scope=col>single_epithelial_cell_size</th><th scope=col>bare_nuclei</th><th scope=col>bland_chromatin</th><th scope=col>normal_nucleoli</th><th scope=col>mitosis</th><th scope=col>classes</th></tr></thead>\n",
       "<tbody>\n",
       "\t<tr><td>1000025  </td><td>5        </td><td> 1       </td><td> 1       </td><td>1        </td><td>2        </td><td>1        </td><td>3        </td><td>1        </td><td>1        </td><td>benign   </td></tr>\n",
       "\t<tr><td>1002945  </td><td>5        </td><td> 4       </td><td> 4       </td><td>5        </td><td>7        </td><td>10       </td><td>3        </td><td>2        </td><td>1        </td><td>benign   </td></tr>\n",
       "\t<tr><td>1015425  </td><td>3        </td><td> 1       </td><td> 1       </td><td>1        </td><td>2        </td><td>2        </td><td>3        </td><td>1        </td><td>1        </td><td>benign   </td></tr>\n",
       "\t<tr><td>1016277  </td><td>6        </td><td> 8       </td><td> 8       </td><td>1        </td><td>3        </td><td>4        </td><td>3        </td><td>7        </td><td>1        </td><td>benign   </td></tr>\n",
       "\t<tr><td>1017023  </td><td>4        </td><td> 1       </td><td> 1       </td><td>3        </td><td>2        </td><td>1        </td><td>3        </td><td>1        </td><td>1        </td><td>benign   </td></tr>\n",
       "\t<tr><td>1017122  </td><td>8        </td><td>10       </td><td>10       </td><td>8        </td><td>7        </td><td>10       </td><td>9        </td><td>7        </td><td>1        </td><td>malignant</td></tr>\n",
       "</tbody>\n",
       "</table>\n"
      ],
      "text/latex": [
       "\\begin{tabular}{r|lllllllllll}\n",
       " sample\\_code\\_number & clump\\_thickness & uniformity\\_of\\_cell\\_size & uniformity\\_of\\_cell\\_shape & marginal\\_adhesion & single\\_epithelial\\_cell\\_size & bare\\_nuclei & bland\\_chromatin & normal\\_nucleoli & mitosis & classes\\\\\n",
       "\\hline\n",
       "\t 1000025   & 5         &  1        &  1        & 1         & 2         & 1         & 3         & 1         & 1         & benign   \\\\\n",
       "\t 1002945   & 5         &  4        &  4        & 5         & 7         & 10        & 3         & 2         & 1         & benign   \\\\\n",
       "\t 1015425   & 3         &  1        &  1        & 1         & 2         & 2         & 3         & 1         & 1         & benign   \\\\\n",
       "\t 1016277   & 6         &  8        &  8        & 1         & 3         & 4         & 3         & 7         & 1         & benign   \\\\\n",
       "\t 1017023   & 4         &  1        &  1        & 3         & 2         & 1         & 3         & 1         & 1         & benign   \\\\\n",
       "\t 1017122   & 8         & 10        & 10        & 8         & 7         & 10        & 9         & 7         & 1         & malignant\\\\\n",
       "\\end{tabular}\n"
      ],
      "text/markdown": [
       "\n",
       "sample_code_number | clump_thickness | uniformity_of_cell_size | uniformity_of_cell_shape | marginal_adhesion | single_epithelial_cell_size | bare_nuclei | bland_chromatin | normal_nucleoli | mitosis | classes | \n",
       "|---|---|---|---|---|---|\n",
       "| 1000025   | 5         |  1        |  1        | 1         | 2         | 1         | 3         | 1         | 1         | benign    | \n",
       "| 1002945   | 5         |  4        |  4        | 5         | 7         | 10        | 3         | 2         | 1         | benign    | \n",
       "| 1015425   | 3         |  1        |  1        | 1         | 2         | 2         | 3         | 1         | 1         | benign    | \n",
       "| 1016277   | 6         |  8        |  8        | 1         | 3         | 4         | 3         | 7         | 1         | benign    | \n",
       "| 1017023   | 4         |  1        |  1        | 3         | 2         | 1         | 3         | 1         | 1         | benign    | \n",
       "| 1017122   | 8         | 10        | 10        | 8         | 7         | 10        | 9         | 7         | 1         | malignant | \n",
       "\n",
       "\n"
      ],
      "text/plain": [
       "  sample_code_number clump_thickness uniformity_of_cell_size\n",
       "1 1000025            5                1                     \n",
       "2 1002945            5                4                     \n",
       "3 1015425            3                1                     \n",
       "4 1016277            6                8                     \n",
       "5 1017023            4                1                     \n",
       "6 1017122            8               10                     \n",
       "  uniformity_of_cell_shape marginal_adhesion single_epithelial_cell_size\n",
       "1  1                       1                 2                          \n",
       "2  4                       5                 7                          \n",
       "3  1                       1                 2                          \n",
       "4  8                       1                 3                          \n",
       "5  1                       3                 2                          \n",
       "6 10                       8                 7                          \n",
       "  bare_nuclei bland_chromatin normal_nucleoli mitosis classes  \n",
       "1 1           3               1               1       benign   \n",
       "2 10          3               2               1       benign   \n",
       "3 2           3               1               1       benign   \n",
       "4 4           3               7               1       benign   \n",
       "5 1           3               1               1       benign   \n",
       "6 10          9               7               1       malignant"
      ]
     },
     "metadata": {},
     "output_type": "display_data"
    }
   ],
   "source": [
    "head(bc_data)"
   ]
  },
  {
   "cell_type": "markdown",
   "metadata": {},
   "source": [
    "Temos duas vezes mais câncer do tipo *benign* do que o câncer *malignat* em nosso dataset."
   ]
  },
  {
   "cell_type": "code",
   "execution_count": 9,
   "metadata": {},
   "outputs": [
    {
     "data": {},
     "metadata": {},
     "output_type": "display_data"
    },
    {
     "data": {
      "image/png": "[encoded data removed]",
      "text/plain": [
       "plot without title"
      ]
     },
     "metadata": {},
     "output_type": "display_data"
    }
   ],
   "source": [
    "options(repr.plot.width=4, repr.plot.height=2)\n",
    "\n",
    "ggplot(bc_data, aes(x = classes, fill = classes)) +\n",
    "  geom_bar()"
   ]
  },
  {
   "cell_type": "markdown",
   "metadata": {},
   "source": [
    "# Modelando com o Dataset Desbalanceado"
   ]
  },
  {
   "cell_type": "code",
   "execution_count": 20,
   "metadata": {},
   "outputs": [],
   "source": [
    "library(randomForest)\n",
    "library(e1071)"
   ]
  },
  {
   "cell_type": "code",
   "execution_count": 10,
   "metadata": {},
   "outputs": [],
   "source": [
    "set.seed(42)\n",
    "index <- createDataPartition(bc_data$classes, p = 0.7, list = FALSE)\n",
    "train_data <- bc_data[index, ]\n",
    "test_data  <- bc_data[-index, ]"
   ]
  },
  {
   "cell_type": "markdown",
   "metadata": {},
   "source": [
    "Vamos usar treinar um modelo do tipo Random Forest."
   ]
  },
  {
   "cell_type": "code",
   "execution_count": 19,
   "metadata": {},
   "outputs": [
    {
     "name": "stderr",
     "output_type": "stream",
     "text": [
      "Warning message in preProcess.default(thresh = 0.95, k = 5, freqCut = 19, uniqueCut = 10, :\n",
      "“These variables have zero variances: bare_nuclei6”Warning message in preProcess.default(thresh = 0.95, k = 5, freqCut = 19, uniqueCut = 10, :\n",
      "“These variables have zero variances: bare_nuclei6”Warning message in preProcess.default(thresh = 0.95, k = 5, freqCut = 19, uniqueCut = 10, :\n",
      "“These variables have zero variances: bare_nuclei6”Warning message in preProcess.default(thresh = 0.95, k = 5, freqCut = 19, uniqueCut = 10, :\n",
      "“These variables have zero variances: bare_nuclei6”Warning message in preProcess.default(thresh = 0.95, k = 5, freqCut = 19, uniqueCut = 10, :\n",
      "“These variables have zero variances: bare_nuclei6”Warning message in preProcess.default(thresh = 0.95, k = 5, freqCut = 19, uniqueCut = 10, :\n",
      "“These variables have zero variances: bare_nuclei6”"
     ]
    }
   ],
   "source": [
    "model_rf <- caret::train(classes ~ .,\n",
    "                         data = train_data,\n",
    "                         method = \"rf\",\n",
    "                         preProcess = c(\"scale\", \"center\"),\n",
    "                         trControl = trainControl(method = \"repeatedcv\", \n",
    "                                                  number = 10, \n",
    "                                                  repeats = 10, \n",
    "                                                  verboseIter = FALSE))"
   ]
  },
  {
   "cell_type": "code",
   "execution_count": 26,
   "metadata": {},
   "outputs": [],
   "source": [
    "final <- data.frame(actual = test_data$classes,\n",
    "                    predict(model_rf, newdata = test_data, type = \"prob\"))\n",
    "\n",
    "final$predict <- as.factor(ifelse(final$benign > 0.5, \"benign\", \"malignant\"))"
   ]
  },
  {
   "cell_type": "code",
   "execution_count": 30,
   "metadata": {},
   "outputs": [
    {
     "data": {
      "text/plain": [
       "Confusion Matrix and Statistics\n",
       "\n",
       "           Reference\n",
       "Prediction  benign malignant\n",
       "  benign       133         0\n",
       "  malignant      4        72\n",
       "                                          \n",
       "               Accuracy : 0.9809          \n",
       "                 95% CI : (0.9517, 0.9948)\n",
       "    No Information Rate : 0.6555          \n",
       "    P-Value [Acc > NIR] : <2e-16          \n",
       "                                          \n",
       "                  Kappa : 0.9582          \n",
       " Mcnemar's Test P-Value : 0.1336          \n",
       "                                          \n",
       "            Sensitivity : 0.9708          \n",
       "            Specificity : 1.0000          \n",
       "         Pos Pred Value : 1.0000          \n",
       "         Neg Pred Value : 0.9474          \n",
       "             Prevalence : 0.6555          \n",
       "         Detection Rate : 0.6364          \n",
       "   Detection Prevalence : 0.6364          \n",
       "      Balanced Accuracy : 0.9854          \n",
       "                                          \n",
       "       'Positive' Class : benign          \n",
       "                                          "
      ]
     },
     "metadata": {},
     "output_type": "display_data"
    }
   ],
   "source": [
    "cm_original <- confusionMatrix(final$predict, as.factor(test_data$classes))\n",
    "cm_original"
   ]
  },
  {
   "cell_type": "markdown",
   "metadata": {},
   "source": [
    "# Modelando Usando a Tecnica de  under-sampling"
   ]
  },
  {
   "cell_type": "code",
   "execution_count": 31,
   "metadata": {},
   "outputs": [],
   "source": [
    "ctrl <- trainControl(method = \"repeatedcv\", \n",
    "                     number = 10, \n",
    "                     repeats = 10, \n",
    "                     verboseIter = FALSE,\n",
    "                     sampling = \"down\")"
   ]
  },
  {
   "cell_type": "code",
   "execution_count": 32,
   "metadata": {},
   "outputs": [],
   "source": [
    "model_rf_under <- caret::train(classes ~ .,\n",
    "                         data = train_data,\n",
    "                         method = \"rf\",\n",
    "                         preProcess = c(\"scale\", \"center\"),\n",
    "                         trControl = ctrl)"
   ]
  },
  {
   "cell_type": "code",
   "execution_count": 33,
   "metadata": {},
   "outputs": [],
   "source": [
    "final_under <- data.frame(actual = test_data$classes,\n",
    "                    predict(model_rf_under, newdata = test_data, type = \"prob\"))\n",
    "\n",
    "final_under$predict <- as.factor(ifelse(final_under$benign > 0.5, \"benign\", \"malignant\"))"
   ]
  },
  {
   "cell_type": "code",
   "execution_count": 35,
   "metadata": {},
   "outputs": [
    {
     "data": {
      "text/plain": [
       "Confusion Matrix and Statistics\n",
       "\n",
       "           Reference\n",
       "Prediction  benign malignant\n",
       "  benign       132         0\n",
       "  malignant      5        72\n",
       "                                          \n",
       "               Accuracy : 0.9761          \n",
       "                 95% CI : (0.9451, 0.9922)\n",
       "    No Information Rate : 0.6555          \n",
       "    P-Value [Acc > NIR] : < 2e-16         \n",
       "                                          \n",
       "                  Kappa : 0.9479          \n",
       " Mcnemar's Test P-Value : 0.07364         \n",
       "                                          \n",
       "            Sensitivity : 0.9635          \n",
       "            Specificity : 1.0000          \n",
       "         Pos Pred Value : 1.0000          \n",
       "         Neg Pred Value : 0.9351          \n",
       "             Prevalence : 0.6555          \n",
       "         Detection Rate : 0.6316          \n",
       "   Detection Prevalence : 0.6316          \n",
       "      Balanced Accuracy : 0.9818          \n",
       "                                          \n",
       "       'Positive' Class : benign          \n",
       "                                          "
      ]
     },
     "metadata": {},
     "output_type": "display_data"
    }
   ],
   "source": [
    "cm_under <- confusionMatrix(final_under$predict, as.factor(test_data$classes))\n",
    "cm_under"
   ]
  },
  {
   "cell_type": "markdown",
   "metadata": {},
   "source": [
    "# Modelando Usando a Tecnica de  over-sampling"
   ]
  },
  {
   "cell_type": "code",
   "execution_count": 36,
   "metadata": {},
   "outputs": [],
   "source": [
    "ctrl <- trainControl(method = \"repeatedcv\", \n",
    "                     number = 10, \n",
    "                     repeats = 10, \n",
    "                     verboseIter = FALSE,\n",
    "                     sampling = \"up\")"
   ]
  },
  {
   "cell_type": "code",
   "execution_count": 37,
   "metadata": {},
   "outputs": [
    {
     "name": "stderr",
     "output_type": "stream",
     "text": [
      "Warning message in preProcess.default(thresh = 0.95, k = 5, freqCut = 19, uniqueCut = 10, :\n",
      "“These variables have zero variances: bare_nuclei6”Warning message in preProcess.default(thresh = 0.95, k = 5, freqCut = 19, uniqueCut = 10, :\n",
      "“These variables have zero variances: bare_nuclei6”Warning message in preProcess.default(thresh = 0.95, k = 5, freqCut = 19, uniqueCut = 10, :\n",
      "“These variables have zero variances: bare_nuclei6”"
     ]
    }
   ],
   "source": [
    "model_rf_over <- caret::train(classes ~ .,\n",
    "                         data = train_data,\n",
    "                         method = \"rf\",\n",
    "                         preProcess = c(\"scale\", \"center\"),\n",
    "                         trControl = ctrl)"
   ]
  },
  {
   "cell_type": "code",
   "execution_count": 38,
   "metadata": {},
   "outputs": [],
   "source": [
    "final_over <- data.frame(actual = test_data$classes,\n",
    "                          predict(model_rf_over, newdata = test_data, type = \"prob\"))\n",
    "\n",
    "final_over$predict <- as.factor(ifelse(final_over$benign > 0.5, \"benign\", \"malignant\"))"
   ]
  },
  {
   "cell_type": "code",
   "execution_count": 39,
   "metadata": {},
   "outputs": [
    {
     "data": {
      "text/plain": [
       "Confusion Matrix and Statistics\n",
       "\n",
       "           Reference\n",
       "Prediction  benign malignant\n",
       "  benign       133         0\n",
       "  malignant      4        72\n",
       "                                          \n",
       "               Accuracy : 0.9809          \n",
       "                 95% CI : (0.9517, 0.9948)\n",
       "    No Information Rate : 0.6555          \n",
       "    P-Value [Acc > NIR] : <2e-16          \n",
       "                                          \n",
       "                  Kappa : 0.9582          \n",
       " Mcnemar's Test P-Value : 0.1336          \n",
       "                                          \n",
       "            Sensitivity : 0.9708          \n",
       "            Specificity : 1.0000          \n",
       "         Pos Pred Value : 1.0000          \n",
       "         Neg Pred Value : 0.9474          \n",
       "             Prevalence : 0.6555          \n",
       "         Detection Rate : 0.6364          \n",
       "   Detection Prevalence : 0.6364          \n",
       "      Balanced Accuracy : 0.9854          \n",
       "                                          \n",
       "       'Positive' Class : benign          \n",
       "                                          "
      ]
     },
     "metadata": {},
     "output_type": "display_data"
    }
   ],
   "source": [
    "cm_over <- confusionMatrix(final_over$predict, as.factor(test_data$classes))\n",
    "cm_over"
   ]
  },
  {
   "cell_type": "markdown",
   "metadata": {},
   "source": [
    "# Desbalanceando usando a Técnica \"Rose\"\n",
    "\n",
    "\n",
    "From Nicola Lunardon, Giovanna Menardi and Nicola Torelli’s “ROSE: A Package for Binary Imbalanced Learning” (R Journal, 2014, Vol. 6 Issue 1, p. 79): “The ROSE package provides functions to deal with binary classification problems in the presence of imbalanced classes. Artificial balanced samples are generated according to a smoothed bootstrap approach and allow for aiding both the phases of estimation and accuracy evaluation of a binary classifier in the presence of a rare class. Functions that implement more traditional remedies for the class imbalance and different metrics to evaluate accuracy are also provided. These are estimated by holdout, bootstrap, or cross-validation methods.”"
   ]
  },
  {
   "cell_type": "code",
   "execution_count": 45,
   "metadata": {},
   "outputs": [],
   "source": [
    "library(ROSE)"
   ]
  },
  {
   "cell_type": "code",
   "execution_count": 46,
   "metadata": {},
   "outputs": [],
   "source": [
    "ctrl <- trainControl(method = \"repeatedcv\", \n",
    "                     number = 10, \n",
    "                     repeats = 10, \n",
    "                     verboseIter = FALSE,\n",
    "                     sampling = \"rose\")"
   ]
  },
  {
   "cell_type": "code",
   "execution_count": 47,
   "metadata": {},
   "outputs": [
    {
     "name": "stderr",
     "output_type": "stream",
     "text": [
      "Warning message in preProcess.default(thresh = 0.95, k = 5, freqCut = 19, uniqueCut = 10, :\n",
      "“These variables have zero variances: bare_nuclei6”Warning message in preProcess.default(thresh = 0.95, k = 5, freqCut = 19, uniqueCut = 10, :\n",
      "“These variables have zero variances: bare_nuclei6”Warning message in preProcess.default(thresh = 0.95, k = 5, freqCut = 19, uniqueCut = 10, :\n",
      "“These variables have zero variances: bare_nuclei6”"
     ]
    }
   ],
   "source": [
    "model_rf_rose <- caret::train(classes ~ .,\n",
    "                              data = train_data,\n",
    "                              method = \"rf\",\n",
    "                              preProcess = c(\"scale\", \"center\"),\n",
    "                              trControl = ctrl)"
   ]
  },
  {
   "cell_type": "code",
   "execution_count": 48,
   "metadata": {},
   "outputs": [],
   "source": [
    "final_rose <- data.frame(actual = test_data$classes,\n",
    "                         predict(model_rf_rose, newdata = test_data, type = \"prob\"))\n",
    "\n",
    "final_rose$predict <- as.factor(ifelse(final_rose$benign > 0.5, \"benign\", \"malignant\"))"
   ]
  },
  {
   "cell_type": "code",
   "execution_count": 49,
   "metadata": {},
   "outputs": [],
   "source": [
    "test_data$classes = as.factor(test_data$classes)"
   ]
  },
  {
   "cell_type": "code",
   "execution_count": 51,
   "metadata": {},
   "outputs": [
    {
     "data": {
      "text/plain": [
       "Confusion Matrix and Statistics\n",
       "\n",
       "           Reference\n",
       "Prediction  benign malignant\n",
       "  benign       133         4\n",
       "  malignant      4        68\n",
       "                                         \n",
       "               Accuracy : 0.9617         \n",
       "                 95% CI : (0.926, 0.9833)\n",
       "    No Information Rate : 0.6555         \n",
       "    P-Value [Acc > NIR] : <2e-16         \n",
       "                                         \n",
       "                  Kappa : 0.9152         \n",
       " Mcnemar's Test P-Value : 1              \n",
       "                                         \n",
       "            Sensitivity : 0.9708         \n",
       "            Specificity : 0.9444         \n",
       "         Pos Pred Value : 0.9708         \n",
       "         Neg Pred Value : 0.9444         \n",
       "             Prevalence : 0.6555         \n",
       "         Detection Rate : 0.6364         \n",
       "   Detection Prevalence : 0.6555         \n",
       "      Balanced Accuracy : 0.9576         \n",
       "                                         \n",
       "       'Positive' Class : benign         \n",
       "                                         "
      ]
     },
     "metadata": {},
     "output_type": "display_data"
    }
   ],
   "source": [
    "cm_rose <- confusionMatrix(final_rose$predict, test_data$classes)\n",
    "cm_rose"
   ]
  },
  {
   "cell_type": "markdown",
   "metadata": {},
   "source": [
    "# Desbalanceando usando a Técnica \"SMOTE\"\n",
    "\n",
    "From Nitesh V. Chawla, Kevin W. Bowyer, Lawrence O. Hall and W. Philip Kegelmeyer’s “SMOTE: Synthetic Minority Over-sampling Technique” (Journal of Artificial Intelligence Research, 2002, Vol. 16, pp. 321–357): “This paper shows that a combination of our method of over-sampling the minority (abnormal) class and under-sampling the majority (normal) class can achieve better classifier performance (in ROC space) than only under-sampling the majority class. This paper also shows that a combination of our method of over-sampling the minority class and under-sampling the majority class can achieve better classifier performance (in ROC space) than varying the loss ratios in Ripper or class priors in Naive Bayes. Our method of over-sampling the minority class involves creating synthetic minority class examples.”"
   ]
  },
  {
   "cell_type": "code",
   "execution_count": 56,
   "metadata": {},
   "outputs": [],
   "source": [
    "library(DMwR)"
   ]
  },
  {
   "cell_type": "code",
   "execution_count": 52,
   "metadata": {},
   "outputs": [],
   "source": [
    "ctrl <- trainControl(method = \"repeatedcv\", \n",
    "                     number = 10, \n",
    "                     repeats = 10, \n",
    "                     verboseIter = FALSE,\n",
    "                     sampling = \"smote\")"
   ]
  },
  {
   "cell_type": "code",
   "execution_count": 57,
   "metadata": {},
   "outputs": [
    {
     "name": "stderr",
     "output_type": "stream",
     "text": [
      "Warning message in preProcess.default(thresh = 0.95, k = 5, freqCut = 19, uniqueCut = 10, :\n",
      "“These variables have zero variances: bare_nuclei6”Warning message in preProcess.default(thresh = 0.95, k = 5, freqCut = 19, uniqueCut = 10, :\n",
      "“These variables have zero variances: bare_nuclei6”Warning message in preProcess.default(thresh = 0.95, k = 5, freqCut = 19, uniqueCut = 10, :\n",
      "“These variables have zero variances: bare_nuclei6”"
     ]
    }
   ],
   "source": [
    "model_rf_smote <- caret::train(classes ~ .,\n",
    "                              data = train_data,\n",
    "                              method = \"rf\",\n",
    "                              preProcess = c(\"scale\", \"center\"),\n",
    "                              trControl = ctrl)"
   ]
  },
  {
   "cell_type": "code",
   "execution_count": 58,
   "metadata": {},
   "outputs": [],
   "source": [
    "final_smote <- data.frame(actual = test_data$classes,\n",
    "                         predict(model_rf_smote, newdata = test_data, type = \"prob\"))\n",
    "\n",
    "final_smote$predict <- as.factor(ifelse(final_smote$benign > 0.5, \"benign\", \"malignant\"))"
   ]
  },
  {
   "cell_type": "code",
   "execution_count": 59,
   "metadata": {},
   "outputs": [
    {
     "data": {
      "text/plain": [
       "Confusion Matrix and Statistics\n",
       "\n",
       "           Reference\n",
       "Prediction  benign malignant\n",
       "  benign       133         0\n",
       "  malignant      4        72\n",
       "                                          \n",
       "               Accuracy : 0.9809          \n",
       "                 95% CI : (0.9517, 0.9948)\n",
       "    No Information Rate : 0.6555          \n",
       "    P-Value [Acc > NIR] : <2e-16          \n",
       "                                          \n",
       "                  Kappa : 0.9582          \n",
       " Mcnemar's Test P-Value : 0.1336          \n",
       "                                          \n",
       "            Sensitivity : 0.9708          \n",
       "            Specificity : 1.0000          \n",
       "         Pos Pred Value : 1.0000          \n",
       "         Neg Pred Value : 0.9474          \n",
       "             Prevalence : 0.6555          \n",
       "         Detection Rate : 0.6364          \n",
       "   Detection Prevalence : 0.6364          \n",
       "      Balanced Accuracy : 0.9854          \n",
       "                                          \n",
       "       'Positive' Class : benign          \n",
       "                                          "
      ]
     },
     "metadata": {},
     "output_type": "display_data"
    }
   ],
   "source": [
    "cm_smote <- confusionMatrix(final_smote$predict, test_data$classes)\n",
    "cm_smote"
   ]
  },
  {
   "cell_type": "markdown",
   "metadata": {},
   "source": [
    "# Comparando as Previsões"
   ]
  },
  {
   "cell_type": "code",
   "execution_count": 60,
   "metadata": {},
   "outputs": [],
   "source": [
    "models <- list(original = model_rf,\n",
    "                       under = model_rf_under,\n",
    "                       over = model_rf_over,\n",
    "                       smote = model_rf_smote,\n",
    "                       rose = model_rf_rose)"
   ]
  },
  {
   "cell_type": "code",
   "execution_count": 63,
   "metadata": {},
   "outputs": [
    {
     "data": {},
     "metadata": {},
     "output_type": "display_data"
    },
    {
     "data": {
      "image/png": "[encoded data removed]",
      "text/plain": [
       "plot without title"
      ]
     },
     "metadata": {},
     "output_type": "display_data"
    }
   ],
   "source": [
    "options(repr.plot.width=8, repr.plot.height=4)\n",
    "\n",
    "resampling <- resamples(models)\n",
    "bwplot(resampling)"
   ]
  }
 ],
 "metadata": {
  "kernelspec": {
   "display_name": "R",
   "language": "R",
   "name": "ir"
  },
  "language_info": {
   "codemirror_mode": "r",
   "file_extension": ".r",
   "mimetype": "text/x-r-source",
   "name": "R",
   "pygments_lexer": "r",
   "version": "3.5.2"
  }
 },
 "nbformat": 4,
 "nbformat_minor": 2
}
